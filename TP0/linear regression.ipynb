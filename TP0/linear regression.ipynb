{
 "cells": [
  {
   "cell_type": "code",
   "execution_count": 150,
   "id": "f135d598",
   "metadata": {},
   "outputs": [],
   "source": [
    "import pandas as pd\n",
    "import numpy as np\n",
    "from sklearn.datasets import make_regression\n",
    "import matplotlib.pyplot as plt"
   ]
  },
  {
   "cell_type": "markdown",
   "id": "b53d23b2",
   "metadata": {},
   "source": [
    "le modele:\n",
    "\n",
    "f(x) = ax + b\n",
    "\n",
    "\n",
    "cost function:\n",
    "\n",
    "1/2m * (XH-Y)'(XH-Y)\n",
    "\n",
    "\n",
    "grad :\n",
    "\n",
    "grad = 1/m * X'(X.H - y )\n",
    "\n",
    "\n",
    "learning :\n",
    "\n",
    "H = H - alpha * grad"
   ]
  },
  {
   "cell_type": "code",
   "execution_count": 151,
   "id": "04fd24de",
   "metadata": {},
   "outputs": [],
   "source": [
    "def model(X,H):\n",
    "    return X.dot(H)"
   ]
  },
  {
   "cell_type": "code",
   "execution_count": 152,
   "id": "386d99bc",
   "metadata": {},
   "outputs": [],
   "source": [
    "def cost(X,H,Y):\n",
    "    m = len(Y)\n",
    "    return (1/(2*m))*(X.dot(H)-Y).T.dot(model(X,H)-Y)"
   ]
  },
  {
   "cell_type": "code",
   "execution_count": 153,
   "id": "a7611fa0",
   "metadata": {},
   "outputs": [],
   "source": [
    "def gradient(X,H,y):\n",
    "    m = len(y)\n",
    "    return (1/m)*X.T.dot(X.dot(H)-y)"
   ]
  },
  {
   "cell_type": "code",
   "execution_count": 154,
   "id": "3992ae82",
   "metadata": {},
   "outputs": [],
   "source": [
    "def gradient_decent(X,H,y,alpha,nb_iter):\n",
    "    for i in range(nb_iter):\n",
    "        grad = gradient(X=X , H= H , y=y)\n",
    "        H = H - alpha * grad\n",
    "    return H\n",
    "        \n",
    "    "
   ]
  },
  {
   "cell_type": "code",
   "execution_count": 155,
   "id": "e41b30cd",
   "metadata": {},
   "outputs": [],
   "source": [
    "nb_iter = 1000\n",
    "alpha = 0.01\n",
    "# random state\n",
    "np.random.seed(0)"
   ]
  },
  {
   "cell_type": "code",
   "execution_count": 156,
   "id": "7ca6271c",
   "metadata": {},
   "outputs": [],
   "source": [
    "X , y = make_regression(n_samples=100,n_features=1,noise=10)"
   ]
  },
  {
   "cell_type": "code",
   "execution_count": 157,
   "id": "b5320b40",
   "metadata": {},
   "outputs": [
    {
     "name": "stdout",
     "output_type": "stream",
     "text": [
      "[[-0.35955316]\n",
      " [ 0.97663904]\n",
      " [ 0.40234164]\n",
      " [-0.81314628]\n",
      " [-0.88778575]]\n",
      "[-19.95588561  21.33977271  11.55689458 -16.34206917 -35.70063849]\n"
     ]
    }
   ],
   "source": [
    "print(X[:5])\n",
    "print(y[:5])"
   ]
  },
  {
   "cell_type": "code",
   "execution_count": 158,
   "id": "96ff3cdd",
   "metadata": {},
   "outputs": [
    {
     "data": {
      "text/plain": [
       "<matplotlib.collections.PathCollection at 0x122c6e8f220>"
      ]
     },
     "execution_count": 158,
     "metadata": {},
     "output_type": "execute_result"
    },
    {
     "data": {
      "image/png": "[encoded data removed]",
      "text/plain": [
       "<Figure size 432x288 with 1 Axes>"
      ]
     },
     "metadata": {
      "needs_background": "light"
     },
     "output_type": "display_data"
    }
   ],
   "source": [
    "plt.scatter(X,y)"
   ]
  },
  {
   "cell_type": "code",
   "execution_count": 159,
   "id": "4e77c3e8",
   "metadata": {},
   "outputs": [
    {
     "data": {
      "text/plain": [
       "array([[-19.95588561],\n",
       "       [ 21.33977271],\n",
       "       [ 11.55689458],\n",
       "       [-16.34206917],\n",
       "       [-35.70063849]])"
      ]
     },
     "execution_count": 159,
     "metadata": {},
     "output_type": "execute_result"
    }
   ],
   "source": [
    "# reshaping y\n",
    "y = y.reshape(y.shape[0],1)\n",
    "y[:5]"
   ]
  },
  {
   "cell_type": "code",
   "execution_count": 160,
   "id": "8df449e7",
   "metadata": {},
   "outputs": [
    {
     "data": {
      "text/plain": [
       "array([[0.27032791],\n",
       "       [0.1314828 ]])"
      ]
     },
     "execution_count": 160,
     "metadata": {},
     "output_type": "execute_result"
    }
   ],
   "source": [
    "# init theta\n",
    "H = np.random.rand(2,1)\n",
    "H"
   ]
  },
  {
   "cell_type": "code",
   "execution_count": 161,
   "id": "c4f00d72",
   "metadata": {},
   "outputs": [
    {
     "data": {
      "text/plain": [
       "array([[-0.35955316,  1.        ],\n",
       "       [ 0.97663904,  1.        ],\n",
       "       [ 0.40234164,  1.        ],\n",
       "       [-0.81314628,  1.        ],\n",
       "       [-0.88778575,  1.        ]])"
      ]
     },
     "execution_count": 161,
     "metadata": {},
     "output_type": "execute_result"
    }
   ],
   "source": [
    "X_oned = np.hstack((X,np.ones(X.shape)))\n",
    "X_oned[:5]"
   ]
  },
  {
   "cell_type": "code",
   "execution_count": 162,
   "id": "e98d6b67",
   "metadata": {},
   "outputs": [
    {
     "data": {
      "text/plain": [
       "array([[42.61760174],\n",
       "       [-0.81306881]])"
      ]
     },
     "execution_count": 162,
     "metadata": {},
     "output_type": "execute_result"
    }
   ],
   "source": [
    "# learning\n",
    "H = gradient_decent(X= X_oned,y=y,H=H,alpha=alpha,nb_iter=nb_iter)\n",
    "H"
   ]
  },
  {
   "cell_type": "code",
   "execution_count": 180,
   "id": "3b39e8db",
   "metadata": {},
   "outputs": [],
   "source": [
    "H=gradient(X=X_oned,H=H,y=y)"
   ]
  },
  {
   "cell_type": "code",
   "execution_count": 176,
   "id": "9fb433fd",
   "metadata": {},
   "outputs": [
    {
     "data": {
      "text/plain": [
       "array([[-43.39947915],\n",
       "       [ -1.73390557]])"
      ]
     },
     "execution_count": 176,
     "metadata": {},
     "output_type": "execute_result"
    }
   ],
   "source": [
    "H"
   ]
  },
  {
   "cell_type": "code",
   "execution_count": 182,
   "id": "105ccd37",
   "metadata": {},
   "outputs": [],
   "source": [
    "pred = model(X= X_oned , H = H)"
   ]
  },
  {
   "cell_type": "code",
   "execution_count": 178,
   "id": "ba74ffae",
   "metadata": {},
   "outputs": [
    {
     "data": {
      "text/plain": [
       "array([[3833.65284643]])"
      ]
     },
     "execution_count": 178,
     "metadata": {},
     "output_type": "execute_result"
    }
   ],
   "source": [
    "cost(X_oned,H,y)"
   ]
  },
  {
   "cell_type": "code",
   "execution_count": 183,
   "id": "1bd44dba",
   "metadata": {},
   "outputs": [
    {
     "data": {
      "image/png": "[encoded data removed]",
      "text/plain": [
       "<Figure size 432x288 with 1 Axes>"
      ]
     },
     "metadata": {
      "needs_background": "light"
     },
     "output_type": "display_data"
    }
   ],
   "source": [
    "fig , ax = plt.subplots()\n",
    "ax.scatter(X,y,color=\"r\",label=\"Original data\")\n",
    "ax.scatter(X,pred,color=\"b\",label=\"Predicted\")\n",
    "ax.legend()\n",
    "plt.show()"
   ]
  }
 ],
 "metadata": {
  "kernelspec": {
   "display_name": "Python 3 (ipykernel)",
   "language": "python",
   "name": "python3"
  },
  "language_info": {
   "codemirror_mode": {
    "name": "ipython",
    "version": 3
   },
   "file_extension": ".py",
   "mimetype": "text/x-python",
   "name": "python",
   "nbconvert_exporter": "python",
   "pygments_lexer": "ipython3",
   "version": "3.9.7"
  }
 },
 "nbformat": 4,
 "nbformat_minor": 5
}
