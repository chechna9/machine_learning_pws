{
 "cells": [
  {
   "cell_type": "code",
   "execution_count": 1,
   "id": "f135d598",
   "metadata": {},
   "outputs": [],
   "source": [
    "import pandas as pd\n",
    "import numpy as np\n",
    "from sklearn.datasets import make_regression\n",
    "import matplotlib.pyplot as plt"
   ]
  },
  {
   "cell_type": "markdown",
   "id": "b53d23b2",
   "metadata": {},
   "source": [
    "le modele:\n",
    "\n",
    "f(x) = ax + b\n",
    "\n",
    "\n",
    "cost function:\n",
    "\n",
    "1/2m * (XH-Y)'(XH-Y)\n",
    "\n",
    "\n",
    "grad :\n",
    "\n",
    "grad = 1/m * X'(X.H - y )\n",
    "\n",
    "\n",
    "learning :\n",
    "\n",
    "H = H - alpha * grad"
   ]
  },
  {
   "cell_type": "code",
   "execution_count": 2,
   "id": "04fd24de",
   "metadata": {},
   "outputs": [],
   "source": [
    "def model(X,H):\n",
    "    return X.dot(H)"
   ]
  },
  {
   "cell_type": "code",
   "execution_count": 4,
   "id": "386d99bc",
   "metadata": {},
   "outputs": [],
   "source": [
    "def cost(X,H,Y):\n",
    "    m = len(Y)\n",
    "    return (1/(2*m))*(model(X,H)-Y).T.dot(model(X,H)-Y)"
   ]
  },
  {
   "cell_type": "code",
   "execution_count": 5,
   "id": "a7611fa0",
   "metadata": {},
   "outputs": [],
   "source": [
    "def gradient(X,H,y):\n",
    "    m = len(y)\n",
    "    return (2/m)*X.T.dot(X.dot(H)-y)"
   ]
  },
  {
   "cell_type": "code",
   "execution_count": 6,
   "id": "3992ae82",
   "metadata": {},
   "outputs": [],
   "source": [
    "def gradient_decent(X,H,y,alpha,nb_iter):\n",
    "    for i in range(nb_iter):\n",
    "        grad = gradient(X=X , H= H , y=y)\n",
    "        H = H - alpha * grad\n",
    "    return H\n",
    "        \n",
    "    "
   ]
  },
  {
   "cell_type": "code",
   "execution_count": 7,
   "id": "e41b30cd",
   "metadata": {},
   "outputs": [],
   "source": [
    "nb_iter = 1000\n",
    "alpha = 0.01\n",
    "# random state\n",
    "np.random.seed(0)"
   ]
  },
  {
   "cell_type": "code",
   "execution_count": 8,
   "id": "7ca6271c",
   "metadata": {},
   "outputs": [],
   "source": [
    "X , y = make_regression(n_samples=100,n_features=1,noise=10)"
   ]
  },
  {
   "cell_type": "code",
   "execution_count": 9,
   "id": "b5320b40",
   "metadata": {},
   "outputs": [
    {
     "name": "stdout",
     "output_type": "stream",
     "text": [
      "[[-0.35955316]\n",
      " [ 0.97663904]\n",
      " [ 0.40234164]\n",
      " [-0.81314628]\n",
      " [-0.88778575]]\n",
      "[-19.95588561  21.33977271  11.55689458 -16.34206917 -35.70063849]\n"
     ]
    }
   ],
   "source": [
    "print(X[:5])\n",
    "print(y[:5])"
   ]
  },
  {
   "cell_type": "code",
   "execution_count": 31,
   "id": "96ff3cdd",
   "metadata": {},
   "outputs": [
    {
     "data": {
      "image/png": "[encoded data removed]",
      "text/plain": [
       "<Figure size 432x288 with 1 Axes>"
      ]
     },
     "metadata": {
      "needs_background": "light"
     },
     "output_type": "display_data"
    }
   ],
   "source": [
    "fig ,ax = plt.subplots()\n",
    "ax.scatter(X,y)\n",
    "ax.set_xlabel(\"X\")\n",
    "ax.set_ylabel(\"y\",rotation=\"0\")\n",
    "ax.set_title(\"data distribution\")\n",
    "plt.show()"
   ]
  },
  {
   "cell_type": "code",
   "execution_count": 32,
   "id": "4e77c3e8",
   "metadata": {},
   "outputs": [
    {
     "data": {
      "text/plain": [
       "array([[-19.95588561],\n",
       "       [ 21.33977271],\n",
       "       [ 11.55689458],\n",
       "       [-16.34206917],\n",
       "       [-35.70063849]])"
      ]
     },
     "execution_count": 32,
     "metadata": {},
     "output_type": "execute_result"
    }
   ],
   "source": [
    "# reshaping y\n",
    "y = y.reshape(y.shape[0],1)\n",
    "y[:5]"
   ]
  },
  {
   "cell_type": "code",
   "execution_count": 40,
   "id": "8df449e7",
   "metadata": {},
   "outputs": [
    {
     "data": {
      "text/plain": [
       "array([[0.05537432],\n",
       "       [0.30159863]])"
      ]
     },
     "execution_count": 40,
     "metadata": {},
     "output_type": "execute_result"
    }
   ],
   "source": [
    "# init theta\n",
    "H = np.random.rand(2,1)\n",
    "H"
   ]
  },
  {
   "cell_type": "code",
   "execution_count": 34,
   "id": "c4f00d72",
   "metadata": {},
   "outputs": [
    {
     "data": {
      "text/plain": [
       "array([[-0.35955316,  1.        ],\n",
       "       [ 0.97663904,  1.        ],\n",
       "       [ 0.40234164,  1.        ],\n",
       "       [-0.81314628,  1.        ],\n",
       "       [-0.88778575,  1.        ]])"
      ]
     },
     "execution_count": 34,
     "metadata": {},
     "output_type": "execute_result"
    }
   ],
   "source": [
    "X_oned = np.hstack((X,np.ones(X.shape)))\n",
    "X_oned[:5]"
   ]
  },
  {
   "cell_type": "code",
   "execution_count": 41,
   "id": "e98d6b67",
   "metadata": {},
   "outputs": [
    {
     "data": {
      "text/plain": [
       "array([[42.61943019],\n",
       "       [-0.81418173]])"
      ]
     },
     "execution_count": 41,
     "metadata": {},
     "output_type": "execute_result"
    }
   ],
   "source": [
    "# learning\n",
    "H = gradient_decent(X= X_oned,y=y,H=H,alpha=alpha,nb_iter=nb_iter)\n",
    "H"
   ]
  },
  {
   "cell_type": "code",
   "execution_count": 37,
   "id": "3b39e8db",
   "metadata": {},
   "outputs": [],
   "source": [
    "H=gradient(X=X_oned,H=H,y=y)"
   ]
  },
  {
   "cell_type": "code",
   "execution_count": 38,
   "id": "9fb433fd",
   "metadata": {},
   "outputs": [
    {
     "data": {
      "text/plain": [
       "array([[-5.42637466e-07],\n",
       "       [ 5.05901031e-07]])"
      ]
     },
     "execution_count": 38,
     "metadata": {},
     "output_type": "execute_result"
    }
   ],
   "source": [
    "H"
   ]
  },
  {
   "cell_type": "code",
   "execution_count": 42,
   "id": "105ccd37",
   "metadata": {},
   "outputs": [],
   "source": [
    "pred = model(X= X_oned , H = H)"
   ]
  },
  {
   "cell_type": "code",
   "execution_count": 43,
   "id": "ba74ffae",
   "metadata": {},
   "outputs": [
    {
     "data": {
      "text/plain": [
       "array([[57.08574308]])"
      ]
     },
     "execution_count": 43,
     "metadata": {},
     "output_type": "execute_result"
    }
   ],
   "source": [
    "cost(X_oned,H,y)"
   ]
  },
  {
   "cell_type": "code",
   "execution_count": 47,
   "id": "1bd44dba",
   "metadata": {},
   "outputs": [
    {
     "data": {
      "image/png": "[encoded data removed]",
      "text/plain": [
       "<Figure size 432x288 with 1 Axes>"
      ]
     },
     "metadata": {
      "needs_background": "light"
     },
     "output_type": "display_data"
    }
   ],
   "source": [
    "fig , ax = plt.subplots()\n",
    "ax.scatter(X,y,color=\"r\",label=\"Original data\")\n",
    "ax.plot(X,pred,color=\"b\",label=\"Predicted\")\n",
    "ax.annotate(\"linear model\",xy=(0,0),xytext=(-2,0),arrowprops ={})\n",
    "ax.legend()\n",
    "plt.show()"
   ]
  }
 ],
 "metadata": {
  "kernelspec": {
   "display_name": "Python 3 (ipykernel)",
   "language": "python",
   "name": "python3"
  },
  "language_info": {
   "codemirror_mode": {
    "name": "ipython",
    "version": 3
   },
   "file_extension": ".py",
   "mimetype": "text/x-python",
   "name": "python",
   "nbconvert_exporter": "python",
   "pygments_lexer": "ipython3",
   "version": "3.9.7"
  }
 },
 "nbformat": 4,
 "nbformat_minor": 5
}
